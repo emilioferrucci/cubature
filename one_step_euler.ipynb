{
 "cells": [
  {
   "cell_type": "code",
   "execution_count": 2,
   "metadata": {},
   "outputs": [],
   "source": [
    "import numpy as np\n",
    "import matplotlib.pyplot as plt\n",
    "from mpl_toolkits.mplot3d import Axes3D\n",
    "import roughpy as rp\n",
    "import math\n",
    "import jax\n",
    "import jax.numpy as jnp\n",
    "from diffrax import *\n",
    "import time\n",
    "\n",
    "jax.config.update(\"jax_enable_x64\", True)"
   ]
  },
  {
   "cell_type": "markdown",
   "metadata": {},
   "source": [
    "Consider the linear controlled differential equation (CDE)\n",
    "\n",
    "$$ \\mathrm{d}Y = AY \\mathrm{d}X, \\quad Y_0 = y_0, \\qquad \\text{with} \\quad A \\in \\mathcal{L}(\\mathbb R^e \\otimes \\mathbb R^d, \\mathbb R^e), \\quad X \\in C^\\infty([0,1], \\mathbb R^d).$$\n",
    "\n",
    "The solution is given explicitly by \n",
    "\n",
    "$$ Y_1 = \\sum_{n = 0}^\\infty A_{k_n \\gamma_n} A_{k_{n-1} \\gamma_{n-1}}^{k_n} \\cdots A_{k_1 \\gamma_1}^{k_2} y_0^{k_1} S(X)^{\\gamma_1 \\ldots \\gamma_n}_{0,1}. $$\n",
    "\n",
    "with an implicit sum over the $k_i$'s, the indices that run over $1,\\ldots,e$. We want to approximate $Y_1$ by computing the partial sum above up to some $n$, i.e. the one-step level-$n$ Euler approximation.\n",
    "\n",
    "The following example code will do this for a specific example of a $2$-dimensional circular path ($2$ is arbitrary and the rest of the code accommodates general $d$). This won't be important for cubature: the signatures will be swapped out for the exponential of the cubature formula (in fact, you can save time by suppressing the trivial computations at odd degrees). What matters is that the functions are vmappable over initial conditions, which means the one-step Euler approximations can be concatenated over several intervals."
   ]
  },
  {
   "cell_type": "code",
   "execution_count": 3,
   "metadata": {},
   "outputs": [],
   "source": [
    "# The following code obtains the signature of a 2-dimensional circlular path, as a list of jnp arrays.\n",
    "# It can be easily modified to obtain the signature of any d-dimensional path.\n",
    "\n",
    "def circle(t, a, b, c):\n",
    "    return a * np.exp(2 * b * np.pi * 1j * (t + c))\n",
    "\n",
    "def _make_path(x):\n",
    "    def lie_path(t, ctx):\n",
    "        return rp.Lie([x(t).real, x(t).imag], ctx=ctx)\n",
    "    return lie_path\n",
    "\n",
    "def make_signature(x, d, n, res, s, t):\n",
    "    context = rp.get_context(width = d, depth = n, coeffs=rp.DPReal)\n",
    "    function_stream = rp.FunctionStream.from_function(_make_path(x), ctx = context, resolution = res)\n",
    "    return function_stream.signature(rp.RealInterval(s,t))\n",
    "\n",
    "def _sig_degrees(sig, d, n):\n",
    "    expected_length = d ** (n + 1) - 1\n",
    "    assert len(sig) == expected_length, f\"Array length must be {expected_length}, but got {len(sig)}\"\n",
    "    result = []\n",
    "    start = 0\n",
    "    for i in range(n + 1):\n",
    "        length = d ** i\n",
    "        subarray = sig[start:start + length]\n",
    "        result.append(subarray)\n",
    "        start += length\n",
    "    return result\n",
    "\n",
    "def _reshape_level(arr, d, n):\n",
    "    expected_length = d ** n\n",
    "    assert len(arr) == expected_length, f\"Array length must be {expected_length}, but got {len(arr)}\"\n",
    "    \n",
    "    new_shape = (d,) * n\n",
    "    reshaped_array = arr.reshape(new_shape)\n",
    "    return reshaped_array\n",
    "\n",
    "def reshape_signature(sig, d, n): \n",
    "    npsig = np.array(sig)\n",
    "    result = []\n",
    "    k = 0\n",
    "    for arr in _sig_degrees(npsig, d, n):\n",
    "        result.append(jnp.array(_reshape_level(arr, d, k)))\n",
    "        k += 1\n",
    "    return result"
   ]
  },
  {
   "cell_type": "code",
   "execution_count": 4,
   "metadata": {},
   "outputs": [],
   "source": [
    "# Computes the powers of the tensor A up to order n and stores them in a list of jnp arrays.\n",
    "\n",
    "def powers_up_to(A, n):\n",
    "    matrix = A\n",
    "    result = [matrix]\n",
    "    for i in range(1, n):\n",
    "        subscripts = 'ab' + ''.join(chr(100 + k) for k in range(i)) + ',bc' + chr(100 + i) + '->ac' + ''.join(chr(100 + k) for k in range(i + 1))\n",
    "        matrix = jnp.einsum(subscripts, matrix, A)\n",
    "        result.append(matrix)\n",
    "    return result"
   ]
  },
  {
   "cell_type": "code",
   "execution_count": 5,
   "metadata": {},
   "outputs": [],
   "source": [
    "# Computes the one-step Euler approximation of the linear CDE with given signature.\n",
    "\n",
    "def _make_indices_j(n):\n",
    "    indices_A = 'ab' + ''.join(chr(99 + i) for i in range(n-1, -1, -1))\n",
    "    indices_S = ''.join(chr(99 + i) for i in range(n))\n",
    "    output_indices = 'ab'\n",
    "    return indices_A, indices_S, output_indices\n",
    "\n",
    "def _single_sum_euler(n, y0, An, Sn, indices_list):\n",
    "    R = jnp.einsum(f'{indices_list[0]},{indices_list[1]}->{indices_list[2]}', An, Sn)\n",
    "    return jnp.dot(R, y0)\n",
    "\n",
    "def one_step_euler(n, y0, powers, S, indices_list):\n",
    "    return y0 + sum(_single_sum_euler(k, y0, powers[k], S[k+1], indices_list[k]) for k in range(n-1))"
   ]
  },
  {
   "cell_type": "code",
   "execution_count": 6,
   "metadata": {},
   "outputs": [
    {
     "name": "stderr",
     "output_type": "stream",
     "text": [
      "2024-08-18 23:02:15.796320: W external/xla/xla/service/gpu/nvptx_compiler.cc:836] The NVIDIA driver's CUDA version is 12.4 which is older than the PTX compiler version (12.6.20). Because the driver is older than the PTX compiler version, XLA is disabling parallel compilation, which may slow down compilation. You should update your NVIDIA driver or use the NVIDIA-provided CUDA forward compatibility packages.\n"
     ]
    }
   ],
   "source": [
    "# Make the signature (all that matters here is the output).\n",
    "k = 5\n",
    "a = 1/k\n",
    "b = k ** 2\n",
    "c = 0\n",
    "\n",
    "length = b * 2 * np.pi * a\n",
    "area = b * np.pi * (a ** 2)\n",
    "\n",
    "d = 2\n",
    "n = 5\n",
    "s, t = 0, 1\n",
    "\n",
    "sig = make_signature(lambda t: circle(t,a,b,c), d = d, n = n, res = 15, s = s, t = t)\n",
    "\n",
    "rs = reshape_signature(sig, d, n)"
   ]
  },
  {
   "cell_type": "code",
   "execution_count": 7,
   "metadata": {},
   "outputs": [],
   "source": [
    "# Parameters of the differential equation. A is drawn from a uniform distribution.\n",
    "\n",
    "e = 4\n",
    "r = 1\n",
    "\n",
    "\n",
    "key0 = jax.random.PRNGKey(0)\n",
    "y0 = jax.random.uniform(key0, (e,))\n",
    "\n",
    "key1 = jax.random.PRNGKey(1)\n",
    "A = jax.random.uniform(key1, (e, e, d))\n",
    "\n",
    "n = 6"
   ]
  },
  {
   "cell_type": "code",
   "execution_count": 9,
   "metadata": {},
   "outputs": [
    {
     "data": {
      "text/plain": [
       "Array([5.9543521 , 5.06384921, 1.39503282, 3.45248092], dtype=float64)"
      ]
     },
     "execution_count": 9,
     "metadata": {},
     "output_type": "execute_result"
    }
   ],
   "source": [
    "ind_list = [_make_indices_j(k) for k in range(1, n+1)] #make the indices for the einsums\n",
    "pow = powers_up_to(A, n) #compute and store the powers of A\n",
    "one_step_euler(n, y0, pow, rs, ind_list) "
   ]
  },
  {
   "cell_type": "code",
   "execution_count": 10,
   "metadata": {},
   "outputs": [
    {
     "name": "stdout",
     "output_type": "stream",
     "text": [
      "Sequential evaluation time:  22.0222806930542\n",
      "vmap evaluation time:  2.2496044635772705\n"
     ]
    }
   ],
   "source": [
    "# Now let's test how much time vmap is saving us. We compare the sequential evaluation of the above\n",
    "# function over many y0's, with the evaluation of the same function using vmap.\n",
    "\n",
    "num_y0s = 10000\n",
    "keys = jax.random.split(key1, num_y0s)\n",
    "random_arrays = [jax.random.uniform(k, (e,)) for k in keys]\n",
    "\n",
    "start = time.time()\n",
    "for y in random_arrays:\n",
    "    one_step_euler(n, y, pow, rs, ind_list)\n",
    "print(\"Sequential evaluation time: \", time.time() - start)\n",
    "\n",
    "start = time.time()\n",
    "jax.vmap(lambda y: one_step_euler(n, y, pow, rs, ind_list))(jnp.array(random_arrays))\n",
    "print(\"vmap evaluation time: \", time.time() - start)\n",
    "\n",
    "# about a 10-fold speedup on Havok, 20-fold on Sauron\n",
    "# the first time vmap is run it is slower becuase of compilation, subsequent runs are faster"
   ]
  },
  {
   "cell_type": "markdown",
   "metadata": {},
   "source": [
    "It's very possible the code above isn't fully optimised. One obstacle to removing some of the lists and for loops is that the arrays for the signatures of various levels are of different sizes, and therefore not stackables. This makes it impossible to vectorise operations over them, even though these operations can in principle be done in parallel."
   ]
  }
 ],
 "metadata": {
  "kernelspec": {
   "display_name": ".venv",
   "language": "python",
   "name": "python3"
  },
  "language_info": {
   "codemirror_mode": {
    "name": "ipython",
    "version": 3
   },
   "file_extension": ".py",
   "mimetype": "text/x-python",
   "name": "python",
   "nbconvert_exporter": "python",
   "pygments_lexer": "ipython3",
   "version": "3.10.12"
  }
 },
 "nbformat": 4,
 "nbformat_minor": 2
}
