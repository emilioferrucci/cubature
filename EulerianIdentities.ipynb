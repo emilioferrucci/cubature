{
 "cells": [
  {
   "cell_type": "code",
   "execution_count": null,
   "metadata": {},
   "outputs": [
    {
     "data": {
      "text/plain": [
       "1.6110529248338214e-17"
      ]
     },
     "execution_count": 14,
     "metadata": {},
     "output_type": "execute_result"
    }
   ],
   "source": [
    "# Verify sum over symmetric group of (e(i),e(j),e(k),e(ijk)) is zero\n",
    "from utils import tensorSum, xi, symmetricProduct\n",
    "from free_lie_algebra import distance, Elt\n",
    "\n",
    "x = tensorSum([symmetricProduct([xi([i]),xi([j]),xi([k]),xi([i,j,k])]) for i in range(3) for j in range(3) for k in range(3)])\n",
    "distance(Elt([]), x)"
   ]
  },
  {
   "cell_type": "code",
   "execution_count": 11,
   "metadata": {},
   "outputs": [
    {
     "name": "stdout",
     "output_type": "stream",
     "text": [
      "0.0\n",
      "0.0\n",
      "0.0\n",
      "0.0\n"
     ]
    }
   ],
   "source": [
    "# Verify antisymmetric and symmetric properties for Eulerian elements\n",
    "\n",
    "from utils import tensorSum, xi\n",
    "from free_lie_algebra import distance\n",
    "\n",
    "# e(ij) = - e(ji)\n",
    "x = tensorSum([xi([i,j]) for i in range(2) for j in range(2)])\n",
    "y = - tensorSum([xi([j,i]) for i in range(2) for j in range(2)])\n",
    "print(distance(x,y))\n",
    "\n",
    "# e(iij) = e(jii)\n",
    "x = tensorSum([xi([i,i,j]) for i in range(2) for j in range(2)])\n",
    "y = tensorSum([xi([j,i,i]) for i in range(2) for j in range(2)])\n",
    "print(distance(x,y))\n",
    "\n",
    "# e(iijk) = - e(kjii)\n",
    "x = tensorSum([xi([i,j,j,k]) for i in range(3) for j in range(3) for k in range(3)])\n",
    "y = tensorSum([xi([k,j,j,i]) for i in range(3) for j in range(3) for k in range(3)])\n",
    "print(distance(x,y))\n",
    "\n",
    "# e(iijjk) = - e(kjjii)\n",
    "x = tensorSum([xi([i,i,j,j,k]) for i in range(3) for j in range(3) for k in range(3)])\n",
    "y = tensorSum([xi([k,j,j,i,i]) for i in range(3) for j in range(3) for k in range(3)])\n",
    "print(distance(x,y))"
   ]
  }
 ],
 "metadata": {
  "kernelspec": {
   "display_name": "Python 3",
   "language": "python",
   "name": "python3"
  },
  "language_info": {
   "codemirror_mode": {
    "name": "ipython",
    "version": 3
   },
   "file_extension": ".py",
   "mimetype": "text/x-python",
   "name": "python",
   "nbconvert_exporter": "python",
   "pygments_lexer": "ipython3",
   "version": "3.12.2"
  }
 },
 "nbformat": 4,
 "nbformat_minor": 2
}
