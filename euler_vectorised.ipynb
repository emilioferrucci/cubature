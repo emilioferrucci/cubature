{
 "cells": [
  {
   "cell_type": "code",
   "execution_count": 1,
   "metadata": {},
   "outputs": [
    {
     "name": "stdout",
     "output_type": "stream",
     "text": [
      "[CudaDevice(id=1), CudaDevice(id=2), CudaDevice(id=3)]\n"
     ]
    },
    {
     "name": "stderr",
     "output_type": "stream",
     "text": [
      "2024-08-20 00:13:29.650972: W external/xla/xla/service/platform_util.cc:206] unable to create StreamExecutor for CUDA:0: failed initializing StreamExecutor for CUDA device ordinal 0: RESOURCE_EXHAUSTED: : CUDA_ERROR_OUT_OF_MEMORY: out of memory\n"
     ]
    }
   ],
   "source": [
    "# to use cpu uncomment the following:\n",
    "#import os\n",
    "#os.environ[\"JAX_PLATFORM_NAME\"] = \"cpu\"\n",
    "\n",
    "import numpy as np\n",
    "import matplotlib.pyplot as plt\n",
    "from mpl_toolkits.mplot3d import Axes3D\n",
    "import roughpy as rp\n",
    "import math\n",
    "import jax\n",
    "import jax.numpy as jnp\n",
    "from diffrax import *\n",
    "import time\n",
    "from one_step_euler import *\n",
    "\n",
    "print(jax.devices())"
   ]
  },
  {
   "cell_type": "markdown",
   "metadata": {},
   "source": [
    "Consider the linear controlled differential equation (CDE)\n",
    "\n",
    "$$ \\mathrm{d}Y = AY \\mathrm{d}X, \\quad Y_0 = y_0, \\qquad \\text{with} \\quad A \\in \\mathcal{L}(\\mathbb R^e \\otimes \\mathbb R^d, \\mathbb R^e), \\quad X \\in C^\\infty([0,1], \\mathbb R^d).$$\n",
    "\n",
    "The solution is given explicitly by \n",
    "\n",
    "$$ Y_1 = \\sum_{n = 0}^\\infty A_{k_n \\gamma_n} A_{k_{n-1} \\gamma_{n-1}}^{k_n} \\cdots A_{k_1 \\gamma_1}^{k_2} y_0^{k_1} S(X)^{\\gamma_1 \\ldots \\gamma_n}_{0,1}. $$\n",
    "\n",
    "with an implicit sum over the $k_i$'s, the indices that run over $1,\\ldots,e$. We want to approximate $Y_1$ by computing the partial sum above up to some $n$, i.e. the one-step level-$n$ Euler approximation.\n",
    "\n",
    "The following example code will do this for a brownian path, but can be made to work for an arbitrary path. This won't be important for cubature: the signatures will be swapped out for the exponential of the cubature formula. What matters is that the functions are vmappable over initial conditions, which means the one-step Euler approximations can be concatenated over several intervals."
   ]
  },
  {
   "cell_type": "code",
   "execution_count": 3,
   "metadata": {},
   "outputs": [],
   "source": [
    "d = 3\n",
    "n = 6\n",
    "s, t = 0, 1\n",
    "N = 100\n",
    "\n",
    "k = jax.random.PRNGKey(0)\n",
    "vbt = VirtualBrownianTree(0, 1, tol=0.01, shape=(d,), key=k)\n",
    "\n",
    "sig = make_brownian_sig(key = k, N = N, res = 10, d = d, n = n)\n",
    "\n",
    "rs = reshape_signature(sig,d,n)"
   ]
  },
  {
   "cell_type": "code",
   "execution_count": 5,
   "metadata": {},
   "outputs": [],
   "source": [
    "# The above code is not fully parallelised. Unfortunately, JAX does not support vectorising the call\n",
    "# to _single_sum_euler, as it involves arrays of different shapes. Let's try to use parallelisation\n",
    "# in concurrent.futures instead.\n",
    "\n",
    "import concurrent.futures\n",
    "import jax.numpy as jnp\n",
    "\n",
    "def one_step_euler_cf(n, y0, powers, S, indices_list):\n",
    "    with concurrent.futures.ThreadPoolExecutor() as executor: # ProcessPoolExecutor never works\n",
    "        futures = [\n",
    "            executor.submit(_single_sum_euler, k, y0, powers[k], S[k+1], indices_list[k])\n",
    "            for k in range(n-1)\n",
    "        ]\n",
    "        results = [future.result() for future in concurrent.futures.as_completed(futures)]\n",
    "    return y0 + sum(results)"
   ]
  },
  {
   "cell_type": "code",
   "execution_count": 4,
   "metadata": {},
   "outputs": [],
   "source": [
    "# Parameters of the differential equation. A is drawn from a uniform distribution.\n",
    "\n",
    "e = 4\n",
    "r = 1\n",
    "\n",
    "\n",
    "key0 = jax.random.PRNGKey(0)\n",
    "y0 = jax.random.uniform(key0, (e,))\n",
    "\n",
    "key1 = jax.random.PRNGKey(1)\n",
    "A = jax.random.uniform(key1, (e, e, d))"
   ]
  },
  {
   "cell_type": "code",
   "execution_count": 5,
   "metadata": {},
   "outputs": [],
   "source": [
    "ind_list = [make_indices(k) for k in range(1, n+1)] #make the indices for the einsums\n",
    "pow = powers_up_to(A, n) #compute and store the powers of A"
   ]
  },
  {
   "cell_type": "code",
   "execution_count": 9,
   "metadata": {},
   "outputs": [
    {
     "name": "stdout",
     "output_type": "stream",
     "text": [
      "vmap evaluation time:  0.3517310619354248\n",
      "Sequential evaluation time:  3.875796318054199\n"
     ]
    }
   ],
   "source": [
    "num_y0s = 10000\n",
    "\n",
    "key = jax.random.PRNGKey(1)\n",
    "random_y0s = jax.random.uniform(key, (num_y0s, e))\n",
    "\n",
    "start = time.time()\n",
    "jax.vmap(lambda y: single_sum_euler(n, y, pow[5], rs[6], ind_list[5]))(random_y0s)\n",
    "print(\"vmap evaluation time: \", time.time() - start)\n",
    "\n",
    "start = time.time()\n",
    "for y in random_y0s:\n",
    "    single_sum_euler(n, y, pow[5], rs[6], ind_list[5])\n",
    "print(\"Sequential evaluation time: \", time.time() - start)"
   ]
  },
  {
   "cell_type": "markdown",
   "metadata": {},
   "source": [
    "Next:\n",
    "\n",
    "- sum the single sum eulers, try to parallelise\n",
    "- vectorise over different signatures as well as different initial conditions"
   ]
  }
 ],
 "metadata": {
  "kernelspec": {
   "display_name": ".venv",
   "language": "python",
   "name": "python3"
  },
  "language_info": {
   "codemirror_mode": {
    "name": "ipython",
    "version": 3
   },
   "file_extension": ".py",
   "mimetype": "text/x-python",
   "name": "python",
   "nbconvert_exporter": "python",
   "pygments_lexer": "ipython3",
   "version": "3.10.12"
  }
 },
 "nbformat": 4,
 "nbformat_minor": 2
}
