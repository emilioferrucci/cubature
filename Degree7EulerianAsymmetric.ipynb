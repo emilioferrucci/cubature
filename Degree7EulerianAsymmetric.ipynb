{
 "cells": [
  {
   "cell_type": "code",
   "execution_count": null,
   "metadata": {},
   "outputs": [],
   "source": [
    "from utils import tensorSum, xi, gaussianCubature\n",
    "from numpy import sqrt\n",
    "\n",
    "def asymmetric_eulerian_cubature_construction(dimension : int = 3, drift : bool = True):\n",
    "    \"\"\"Computes the degree-seven cubature formula for Brownian motion given in Theorem 5.8\"\"\"\n",
    "    \n",
    "    z = gaussianCubature(degree = 7, dimension = dimension)\n",
    "    zz = gaussianCubature(degree = 3, dimension = dimension ** 2)\n",
    "\n",
    "    def dimensionalise(L : list[float]):\n",
    "        empty = [[None for _ in range(dimension + 1)] for _ in range(dimension + 1)]\n",
    "        L = iter(L)\n",
    "        for i in range(1, dimension + 1):\n",
    "            for j in range(i, dimension + 1):\n",
    "                empty[i][j] = next(L)\n",
    "        return empty\n",
    "    \n",
    "    zz = [(dimensionalise(x[0][1:]), x[1]) for x in zz]\n",
    "    zzz = gaussianCubature(degree = 3, dimension = 1)\n",
    "\n",
    "    cubature = []\n",
    "    for z_n, z_weight in z:\n",
    "        for z_m, zz_weight in zz:\n",
    "            for z_r, zzz_weight in zzz:\n",
    "                L = tensorSum([\n",
    "                    z_n[i] * xi([i])\n",
    "                    for i in range(1,dimension + 1)\n",
    "                ])\n",
    "                L += tensorSum([\n",
    "                    (1 / sqrt(6)) * z_m[i][i] * z_n[j] * z_r[1] * xi([i,j,i])\n",
    "                    for i in range(1, dimension + 1) for j in range(1, dimension + 1)\n",
    "                ])\n",
    "                L += tensorSum([\n",
    "                    (1 / sqrt(3)) * (z_m[i][j] + z_m[i][i] * z_n[j] + c * z_m[j][j] * z_n[i]) * xi([i,j])\n",
    "                    + (1 / 2) * z_n[i] * xi([i,j,j])\n",
    "                    + (1 / 2) * z_n[j] * xi([j,i,i])\n",
    "                    for i,j,c in [(1,2,-1), (1,3,1), (2,3,1)]\n",
    "                ])\n",
    "                L += tensorSum([\n",
    "                    (1 / sqrt(3)) * z_m[i][j] * z_n[k] * z_r[1] * xi([i,k,j])\n",
    "                    + (c / (2 * sqrt(3))) * z_n[i] * z_m[j][j] * xi([i,j,k,k])\n",
    "                    - (c / (2 * sqrt(3))) * z_n[i] * z_m[j][j] * xi([j,i,k,k])\n",
    "                    + (c / (2 * sqrt(3))) * z_n[i] * z_m[j][j] * xi([i,k,k,j])\n",
    "                    for i,j,c in [(1,2,-1), (1,3,1), (2,3,1)] for k in range(1, dimension + 1)\n",
    "                ])\n",
    "                L += tensorSum([\n",
    "                    + (1 / 12) * z_n[k] * xi([k,i,i,j,j])\n",
    "                    + (1 / 24) * z_n[k] * xi([i,i,k,j,j])\n",
    "                    for i in range(1, dimension + 1) for j in range(1, dimension + 1) for k in range(1, dimension + 1)\n",
    "                ])\n",
    "                if drift:\n",
    "                    L += xi([0])\n",
    "                    L += tensorSum([\n",
    "                        sqrt(1/3) * c * z_m[i][i] * xi([0,i])\n",
    "                        + (1/2) * xi([0,i,i])\n",
    "                        for i, c in [(1,-1),(2,-1),(3,1)]\n",
    "                    ])\n",
    "                    L += tensorSum([\n",
    "                        (1/12) * xi([0,i,i,j,j])\n",
    "                        + (1/24) * xi([i,i,0,j,j])\n",
    "                        for i in range(1,dimension + 1) for j in range(1,dimension + 1)\n",
    "                    ])\n",
    "                \n",
    "                cubature.append((L, z_weight * zz_weight * zzz_weight))\n",
    "    return cubature"
   ]
  },
  {
   "cell_type": "code",
   "execution_count": null,
   "metadata": {},
   "outputs": [],
   "source": [
    "# Build cubature formula in tensor space\n",
    "cubature = asymmetric_eulerian_cubature_construction()"
   ]
  },
  {
   "cell_type": "code",
   "execution_count": null,
   "metadata": {},
   "outputs": [],
   "source": [
    "# Compute the RHS of Equation (9)\n",
    "from utils import pi, tensorSum\n",
    "from free_lie_algebra import exp, Elt\n",
    "\n",
    "degree = 7\n",
    "dimension = 3\n",
    "\n",
    "rhs = tensorSum([w * exp(L, maxLevel = degree) for L, w in cubature])\n",
    "rhs = pi(rhs, 7)"
   ]
  },
  {
   "cell_type": "code",
   "execution_count": null,
   "metadata": {},
   "outputs": [
    {
     "data": {
      "text/plain": [
       "1.0637628397709893e-14"
      ]
     },
     "execution_count": 77,
     "metadata": {},
     "output_type": "execute_result"
    }
   ],
   "source": [
    "# Validate cubature formula by showing RHS is equal to expected signature\n",
    "from utils import expected_signature\n",
    "from free_lie_algebra import distance\n",
    "\n",
    "distance(rhs, expected_signature())"
   ]
  }
 ],
 "metadata": {
  "kernelspec": {
   "display_name": "Python 3",
   "language": "python",
   "name": "python3"
  },
  "language_info": {
   "codemirror_mode": {
    "name": "ipython",
    "version": 3
   },
   "file_extension": ".py",
   "mimetype": "text/x-python",
   "name": "python",
   "nbconvert_exporter": "python",
   "pygments_lexer": "ipython3",
   "version": "3.12.2"
  }
 },
 "nbformat": 4,
 "nbformat_minor": 2
}
