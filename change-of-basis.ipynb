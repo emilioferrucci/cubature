{
 "cells": [
  {
   "cell_type": "code",
   "execution_count": 2,
   "metadata": {},
   "outputs": [],
   "source": [
    "from free_lie_algebra import *\n",
    "from fla_addendum import *"
   ]
  },
  {
   "cell_type": "code",
   "execution_count": 3,
   "metadata": {},
   "outputs": [],
   "source": [
    "noGenerators = 2\n",
    "depth = 3\n",
    "H = HallBasis(noGenerators, depth, lessExpression=lessExpressionLyndon) # create Lyndon basis\n",
    "PBW = TensorSpaceBasis(P,H) # lift to the non-symmetrised PBW basis"
   ]
  },
  {
   "cell_type": "code",
   "execution_count": null,
   "metadata": {},
   "outputs": [],
   "source": [
    "\"\"\" Output the list of Hall trees, hopefully matching the order of TensorSpaceBasis.data, given a Hall basis lifted to a basis of the tensor\n",
    "algebra. Either pass it both the basis and lifted basis (to save time), or pass it the Hall basis and function fn words -> tensor basis elements to\n",
    "use in the lift. \"\"\"\n",
    "def hallTreeList(hallBasis, tensorBasis = None, fn = None):\n",
    "    if tensorBasis == None:\n",
    "        tensorBasis = TensorSpaceBasis(fn, basis = hallBasis, checkFn=False)\n",
    "    alphabet=list(range(1,tensorBasis.d+1))\n",
    "    pbwIndexList = [[]]\n",
    "    for r in range(1,tensorBasis.m+1):\n",
    "        words = list(itertools.product(alphabet,repeat=r))\n",
    "        for w in words:\n",
    "            pbwIndexList.append(hallBasis.factorIntoHallWords(w))\n",
    "    return pbwIndexList\n",
    "\n",
    "print(hallTreeList(H,tensorBasis = PBW))"
   ]
  },
  {
   "cell_type": "code",
   "execution_count": 9,
   "metadata": {},
   "outputs": [
    {
     "name": "stdout",
     "output_type": "stream",
     "text": [
      "[(2,), (1,)] :     2.0\n",
      "[((1,), ((1,), (2,)))] :     1.0\n",
      "[((1,), (2,)), (1,)] :     2.0\n",
      "[(2,), (1,), (1,)] :     1.0\n",
      "[(2,), ((1,), (2,))] :     3.0\n"
     ]
    }
   ],
   "source": [
    "htl = hallTreeList(H,tensorBasis = PBW)\n",
    "tensor = word2Elt((1,1,2)) + 3*word2Elt((2,1,2)) - 3*word2Elt((2,2,1)) + 2*word2Elt((2,1))\n",
    "tcheck = word2Elt(emptyWord)\n",
    "for i in range(len(htl)):\n",
    "    r = round(PBW.fromElt(tensor)[i], 4)\n",
    "    if r != 0:\n",
    "        print(htl[i], \":    \", r)\n",
    "        lieList = [basisElementToElt(a) for a in htl[i]]\n",
    "        tcheck = tcheck + r*concatenationProductMany(lieList)\n",
    "assert tcheck - tensor - word2Elt(emptyWord) == word2Elt(emptyWord) - word2Elt(emptyWord)"
   ]
  },
  {
   "cell_type": "code",
   "execution_count": 6,
   "metadata": {},
   "outputs": [],
   "source": [
    "def removeSmalls(a):\n",
    "    \"\"\"a version of an Elt with tiny elements removed\"\"\"\n",
    "    assert isinstance(a,Elt), a\n",
    "    d=[{k:v for k,v in i.items() if math.fabs(v)>1e-4} for i in a.data] # I chose 4 based on examples\n",
    "    return Elt(d)"
   ]
  },
  {
   "cell_type": "code",
   "execution_count": 7,
   "metadata": {},
   "outputs": [],
   "source": [
    "\"\"\" Given an Elt, output its non-negligible Hall coordinates as a dictionary  \"\"\"\n",
    "def hallDictFromElt(tensor, hallBasis, tensorBasis = None, fn = None, product = None): # should be renamed, since it actually doesn't return a dict...\n",
    "    if product == None: # product should be concatenationProductMany if fn is P, symConcatProdMany if fn is Psym\n",
    "        product = concatenationProductMany\n",
    "    if tensorBasis == None:\n",
    "        tensorBasis = TensorSpaceBasis(fn, basis = hallBasis, checkFn=False)\n",
    "    htl = hallTreeList(hallBasis,tensorBasis)\n",
    "    tcheck = word2Elt(emptyWord)\n",
    "    for i in range(len(htl)):\n",
    "        r = round(tensorBasis.fromElt(tensor)[i], 4)\n",
    "        if r != 0:\n",
    "            print(htl[i], \":    \", r)\n",
    "            lieList = [basisElementToElt(a) for a in htl[i]]\n",
    "            tcheck = tcheck + r*product(lieList)\n",
    "    print(removeSmalls(tcheck - tensor - word2Elt(emptyWord))) # I will avoid asserting this, since it may still be e-3 or something"
   ]
  },
  {
   "cell_type": "code",
   "execution_count": null,
   "metadata": {},
   "outputs": [],
   "source": [
    "t = word2Elt((1,2,2)) + 3*word2Elt((2,)) - 3*word2Elt((2,1,1)) + 2*word2Elt((2,1)) + 40*word2Elt((2,1,2))\n",
    "hallDictFromElt(t, H, PBW)"
   ]
  },
  {
   "cell_type": "code",
   "execution_count": 78,
   "metadata": {},
   "outputs": [],
   "source": [
    "\"\"\" Symmetric product, and the mapping of words to symmetric PBW elements \"\"\"\n",
    "\n",
    "def symConcatProdMany(a, maxLevel=None):\n",
    "    f = 1/math.factorial(len(a))\n",
    "    s = word2Elt(emptyWord)\n",
    "    for b in list(itertools.permutations(a)): #why doesn't sum() of Elts work\n",
    "        s = s + concatenationProductMany(b)\n",
    "    s = s - word2Elt(emptyWord)\n",
    "    return f*s\n",
    "\n",
    "def Psym(w, basis):\n",
    "    assert isinstance(basis, HallBasis), basis\n",
    "    assert type(w) in (tuple,str), w\n",
    "    if 0==len(w):\n",
    "        return unitElt\n",
    "    assert 0<len(w)<=basis.m\n",
    "    a=basis.factorIntoHallWords(w)\n",
    "    h = [basisElementToElt(i) for i in a]\n",
    "    out = symConcatProdMany(h)\n",
    "    return out"
   ]
  },
  {
   "cell_type": "code",
   "execution_count": 104,
   "metadata": {},
   "outputs": [],
   "source": [
    "\"\"\"Now let's compute Christian's elements. For the first three I will use 2 generators (ignoring the fact that we have epsilon_0 in one and\n",
    "epsilon_2 in another, since within each example we only have two generators) and depth 8, for the third I will use 3 generators and depth 6. \"\"\"\n",
    "a = symConcatProdMany([word2Elt(Word([1])), word2Elt(Word([2,2,2,2]))])\n",
    "b = symConcatProdMany([word2Elt(Word([1,1,1,1])), word2Elt(Word([2,2,2,2]))])\n",
    "c = symConcatProdMany([word2Elt(Word([1,1])), word2Elt(Word([2,2,2,2]))])\n",
    "\n",
    "d = symConcatProdMany([word2Elt(Word([1,1])), word2Elt(Word([2,2])), word2Elt(Word([3,3]))])\n",
    "\n",
    "H28 = HallBasis(2, 8, lessExpression=lessExpressionLyndon)\n",
    "H36 = HallBasis(3, 6, lessExpression=lessExpressionLyndon)\n",
    "PBW28 = TensorSpaceBasis(Psym,H28,checkFn=False)\n",
    "PBW36 = TensorSpaceBasis(Psym,H36,checkFn=False)"
   ]
  },
  {
   "cell_type": "code",
   "execution_count": null,
   "metadata": {},
   "outputs": [],
   "source": [
    "hallDictFromElt(a, H28, tensorBasis = PBW28, fn = Psym, product = symConcatProdMany)"
   ]
  },
  {
   "cell_type": "code",
   "execution_count": null,
   "metadata": {},
   "outputs": [],
   "source": [
    "hallDictFromElt(b, H28, tensorBasis = PBW28, fn = Psym, product = symConcatProdMany)"
   ]
  },
  {
   "cell_type": "code",
   "execution_count": null,
   "metadata": {},
   "outputs": [],
   "source": [
    "hallDictFromElt(c, H28, tensorBasis = PBW28, fn = Psym, product = symConcatProdMany)"
   ]
  },
  {
   "cell_type": "code",
   "execution_count": null,
   "metadata": {},
   "outputs": [],
   "source": [
    "hallDictFromElt(d, H36, tensorBasis = PBW36, fn = Psym, product = symConcatProdMany)"
   ]
  },
  {
   "cell_type": "code",
   "execution_count": null,
   "metadata": {},
   "outputs": [],
   "source": [
    "hallDictFromElt(d, H36, fn = P, product = concatenationProductMany)"
   ]
  },
  {
   "cell_type": "code",
   "execution_count": null,
   "metadata": {},
   "outputs": [],
   "source": [
    "\"\"\" a check that the last line in the function is not trivial: if the product and the mapping words -> tensor basis elements do not match, you get a\n",
    "non-zero error \"\"\"\n",
    "hallDictFromElt(d, H36, fn = Psym, product = concatenationProductMany)"
   ]
  },
  {
   "cell_type": "code",
   "execution_count": null,
   "metadata": {},
   "outputs": [],
   "source": [
    "# Christian's thesis, Lemma 44 (typo - there is a missing 90)\n",
    "e = 90*symConcatProdMany([word2Elt(Word([1,1])), word2Elt(Word([2,2])), word2Elt(Word([2,2]))])\n",
    "hallDictFromElt(e, H28, tensorBasis = PBW28, fn = Psym, product = symConcatProdMany)"
   ]
  },
  {
   "cell_type": "code",
   "execution_count": null,
   "metadata": {},
   "outputs": [],
   "source": [
    "f = 6*symConcatProdMany([word2Elt(Word([1])),word2Elt(Word([1])), word2Elt(Word([2,2]))])\n",
    "hallDictFromElt(f, H28, tensorBasis = PBW28, fn = Psym, product = symConcatProdMany)"
   ]
  },
  {
   "cell_type": "code",
   "execution_count": null,
   "metadata": {},
   "outputs": [],
   "source": [
    "\"\"\"TODO next:\n",
    "- write code to format properly the Hall tress properly (((1,), (2,)), (2,)), (1,) -> [[1,2],2]*1\n",
    "- check that the Psym basis is dual to the S_h basis\n",
    "- compute the expected signature of brownian motion (with drift) in the PSym coordinates up to some level. Does this\n",
    "help with cubature though?\n",
    "\"\"\""
   ]
  }
 ],
 "metadata": {
  "kernelspec": {
   "display_name": ".venv",
   "language": "python",
   "name": "python3"
  },
  "language_info": {
   "codemirror_mode": {
    "name": "ipython",
    "version": 3
   },
   "file_extension": ".py",
   "mimetype": "text/x-python",
   "name": "python",
   "nbconvert_exporter": "python",
   "pygments_lexer": "ipython3",
   "version": "3.10.12"
  }
 },
 "nbformat": 4,
 "nbformat_minor": 2
}
